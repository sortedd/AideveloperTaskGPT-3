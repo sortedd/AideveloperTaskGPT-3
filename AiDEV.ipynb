{
  "nbformat": 4,
  "nbformat_minor": 0,
  "metadata": {
    "colab": {
      "provenance": []
    },
    "kernelspec": {
      "name": "python3",
      "display_name": "Python 3"
    },
    "language_info": {
      "name": "python"
    }
  },
  "cells": [
    {
      "cell_type": "code",
      "source": [
        "import openai\n",
        "import random\n",
        "\n",
        "# Set up the OpenAI API credentials\n",
        "openai.api_key = \"YOUR_API_KEY\"\n",
        "\n",
        "# Define a list of possible keywords for the prompt\n",
        "keywords = [\"a haunted house\", \"an unexpected visitor\", \"a time travel adventure\"]\n",
        "\n",
        "# Select a random keyword from the list\n",
        "keyword = random.choice(keywords)\n",
        "\n",
        "# Define the prompt using the selected keyword\n",
        "prompt = f\"Once upon a time, there was {keyword}. \"\n",
        "\n",
        "# Set the parameters for the story generation\n",
        "model = \"text-davinci-002\"\n",
        "temperature = 0.7\n",
        "max_tokens = 1024\n",
        "stop_sequence = \"\\n\\n\"\n",
        "\n",
        "# Generate the story\n",
        "response = openai.Completion.create(\n",
        "    engine=model,\n",
        "    prompt=prompt,\n",
        "    temperature=temperature,\n",
        "    max_tokens=max_tokens,\n",
        "    stop=stop_sequence,\n",
        ")\n",
        "\n",
        "# Extract the generated story from the response\n",
        "story = response.choices[0].text.strip()\n",
        "\n",
        "# Check that the story is not empty\n",
        "if story:\n",
        "    # Capitalize the first letter of the story\n",
        "    story = story[0].upper() + story[1:]\n",
        "    \n",
        "    # Add a period at the end of the story if it doesn't already have one\n",
        "    if not story.endswith(\".\"):\n",
        "        story += \".\"\n",
        "        \n",
        "    # Print the generated story\n",
        "    print(story)\n",
        "else:\n",
        "    print(\"Oops! Something went wrong and the story couldn't be generated. Please try again.\")\n"
      ],
      "metadata": {
        "id": "_qmdVaIE3bVx"
      },
      "execution_count": null,
      "outputs": []
    }
  ]
}